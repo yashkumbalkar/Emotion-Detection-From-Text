{
 "cells": [
  {
   "cell_type": "markdown",
   "metadata": {
    "id": "wigR_Y0haD0F"
   },
   "source": [
    "## **Overview :-**\n",
    "This project uses **DistilBERT**, a smaller, faster, and lighter version of BERT, for detecting emotions from text. The model is fine-tuned on a text dataset and deployed as an interactive web application using **Streamlit**.\n"
   ]
  },
  {
   "cell_type": "markdown",
   "metadata": {
    "id": "sOFaQ_RMMNRE"
   },
   "source": [
    "## **Dataset :-** https://huggingface.co/datasets/dair-ai/emotion"
   ]
  },
  {
   "cell_type": "markdown",
   "metadata": {
    "id": "MvddYjjwaUis"
   },
   "source": [
    "## **Importing Libraries**"
   ]
  },
  {
   "cell_type": "code",
   "execution_count": null,
   "metadata": {
    "colab": {
     "base_uri": "https://localhost:8080/"
    },
    "id": "WuWZJjjGdwlU",
    "outputId": "a1bb1d60-b04a-4207-ca9f-2810de53e40c"
   },
   "outputs": [],
   "source": [
    "!pip install -U transformers\n",
    "!pip install -U accelerate\n",
    "!pip install -U datasets\n",
    "!pip install -U bertviz\n",
    "!pip install -U umap-learn"
   ]
  },
  {
   "cell_type": "code",
   "execution_count": null,
   "metadata": {
    "id": "GmGJhwg3ayQs"
   },
   "outputs": [],
   "source": [
    "import pandas as pd\n",
    "from datasets import load_dataset\n",
    "import matplotlib.pyplot as plt\n",
    "from transformers import AutoTokenizer, AutoModel, AutoModelForSequenceClassification, TrainingArguments, Trainer\n",
    "from sklearn.metrics import accuracy_score, f1_score\n",
    "from sklearn.metrics import classification_report\n",
    "import torch"
   ]
  },
  {
   "cell_type": "code",
   "execution_count": null,
   "metadata": {
    "colab": {
     "base_uri": "https://localhost:8080/",
     "height": 241,
     "referenced_widgets": [
      "ce7864357aa1453599468d5a7ed1219d",
      "592b5349ec3a461283bc8dcf954b1887",
      "5c69b08cefb1420bba58f3410b155cc0",
      "bcbf92fcfbb64b20ae2704060369c3a4",
      "f27a28e6448a41d7b28942031049c2c2",
      "4da3d3e5909c458986d1718e34e5feb3",
      "5ec4ae9d200641ffa3ae22c109caddbd",
      "747a3e3aee23471fbe03d48daa249989",
      "fcdd9b3ea04f4f4fa862e2aa5001c756",
      "fae10a98223c4588a5df2d3f80c62eda",
      "bf5cbfefa4a24e83ac25ee31723cb7d8",
      "841df0ddecf94a80a187cb2e05d1eb17",
      "b58da58a582f46baa109bfe346e6819a",
      "27ddcf920eae4d5ea7db8a08496c9e90",
      "d418777dbd5040ef9099a87f93c96435",
      "4995fbf1eb004b26990bcc5e4fa419c7",
      "02238daecaaa459f95a3d8bdfe551e3c",
      "0213771f04d7411e891f679b44bc72d3",
      "19c5fba3fd4d4571977117b8dbc41587",
      "caf4c30fb47c48e193db1903f3cc24c9",
      "79960ddd598041eda3c654e8863b66a6",
      "3f08a5af8a09406ca3e01a783b241670",
      "0662ff90abc9408eb655258c648d0b35",
      "2717fbd007f2401085d37bcf8f45d4b4",
      "c2690f1ce357457fac7b1887596f6419",
      "ac3bcf2ce4344afab4c485565d24a18f",
      "3276983f6c6b4228aebdb20a1e0202b6",
      "9d76a3c7c5d741948649f92e8440ff6b",
      "908d9d0727664339b18714c58af118c5",
      "9d6e28eb665943a5b68dece288753a1e",
      "e3aaa5f4e9464f24bda9d7cf0a11c11c",
      "86b6cda77f67409d8badfd3689780dcd",
      "bdeb8e1c368d4d66bd3e3d11741ed6ec",
      "355eabde24f44b95a7cb1b56b5aeabb7",
      "938a5dd7123a4b16b670928c9c7220fa",
      "1f2fb4e0e298456b945f73535fd08140",
      "5efcee50fd264c3a87c2d914f7581cad",
      "dbda8c24a241484c903b6a515019e322",
      "318d5123486c4c9c81c6ce4e5219024f",
      "6023850e729a41788f5584fc3d446be6",
      "757da947fe4748838a44a9ff9354a638",
      "1023613ae1a948e383fee696b645dd53",
      "f7118072497048f5814127f9a98b5a33",
      "d754d8a40a424f579084a8f921acbd11",
      "fc4898700f6e45cca1a61a94de709589",
      "2a29bc68c2354a2eb7d7262c20bba4ed",
      "5dd13952b9b344669cdd1771a1f639f0",
      "c7cf6866f33c4e19a0f782d6ea8b9e8f",
      "973c619b42c740fe99a367ad89124921",
      "1a26b30351e14fc1bf1d3785e08ad144",
      "7f9cc48a015d4389b20c0d0f58df96fb",
      "6c03d6ce286a4c5491b1a1b4e63f19df",
      "87354646ed764579b653d293ac0b01ea",
      "11d68bf93b8847a99111782405fa2749",
      "472e9db38abb45f9b4f5b32855a9385f",
      "b1a4a9c39bbd455cbcb711b7f922c157",
      "0e40e2a71f7f4cfeb4399aeea4df3316",
      "fb5c4de94e67422e86c8639ec5bf15ee",
      "6b4e0ac6644d4f2b98b2abb4fb0efb75",
      "65c8b74a0aa146fb8f026ffce20d1430",
      "1810fd4ad0dc4799938d86656a5d3f15",
      "77c85a74d08e4e7b838f00fd330cfcba",
      "953c694adf1a4930912f0b506fb72a62",
      "c05134047b5547d0b72c05a529e9bfd0",
      "fc582c3427724eafa931c5edf95044c9",
      "8c98958aed564f7ea711349d222ad5ab",
      "96941aaa8e594aa68d0d9a8e680be447",
      "613861603e1f4b80be4383dec146f4c6",
      "520c7674d9b24877bd4766ef9d79e7c4",
      "5525bdb941554cf2b2aac0f3c51b773d",
      "d0467e15a5d6415aab3d14fcdc1144ef",
      "7e268b1729f0486eb1599cbaca2c0275",
      "6ef616e786e34ef4a8ca529003ca8b0e",
      "af14830a570f4394979f5b830aa60e69",
      "10017302d3f94df7a399242a9a648936",
      "804b3fb18fa743a9a62499e9dd0812f9",
      "6aee0648a52e4982b9f1368d9fecc0fb"
     ]
    },
    "id": "Muer9k1dfQh3",
    "outputId": "4889b78d-0bfc-4a3d-c9e2-fe3e209c6728"
   },
   "outputs": [],
   "source": [
    "import pandas as pd\n",
    "from datasets import load_dataset\n",
    "\n",
    "ds = load_dataset(\"dair-ai/emotion\", \"split\")"
   ]
  },
  {
   "cell_type": "code",
   "execution_count": null,
   "metadata": {
    "colab": {
     "base_uri": "https://localhost:8080/"
    },
    "id": "90TUikxCnZxZ",
    "outputId": "bb3a8af9-ee7e-46d5-92af-4c8d8e67a00b"
   },
   "outputs": [],
   "source": [
    "ds"
   ]
  },
  {
   "cell_type": "code",
   "execution_count": null,
   "metadata": {
    "id": "xwroLSsCfxRR"
   },
   "outputs": [],
   "source": [
    "ds.set_format(type='pandas')"
   ]
  },
  {
   "cell_type": "markdown",
   "metadata": {
    "id": "TfSYfLfCdTFe"
   },
   "source": [
    "## **Training Data**"
   ]
  },
  {
   "cell_type": "code",
   "execution_count": null,
   "metadata": {
    "colab": {
     "base_uri": "https://localhost:8080/",
     "height": 206
    },
    "id": "vJ97-GYCgLyn",
    "outputId": "373fa7fe-758e-459a-9219-e4a3b497bf15"
   },
   "outputs": [],
   "source": [
    "df = ds['train'][:]\n",
    "df.head()"
   ]
  },
  {
   "cell_type": "code",
   "execution_count": null,
   "metadata": {
    "colab": {
     "base_uri": "https://localhost:8080/"
    },
    "id": "eWwFFUvjlqZQ",
    "outputId": "3dc2bebd-f2ce-4b26-ec00-21d32b3527d1"
   },
   "outputs": [],
   "source": [
    "ds['train']"
   ]
  },
  {
   "cell_type": "code",
   "execution_count": null,
   "metadata": {
    "colab": {
     "base_uri": "https://localhost:8080/"
    },
    "id": "vzYVO75ZnrBG",
    "outputId": "cf164605-ab55-4d83-b383-3793c1571726"
   },
   "outputs": [],
   "source": [
    "ds['train'].features"
   ]
  },
  {
   "cell_type": "code",
   "execution_count": null,
   "metadata": {
    "colab": {
     "base_uri": "https://localhost:8080/"
    },
    "id": "MG4ZbxsPn0qb",
    "outputId": "7f173a58-05d7-44d4-bf36-7cbb5d96e7a6"
   },
   "outputs": [],
   "source": [
    "classes = ds['train'].features['label'].names\n",
    "classes"
   ]
  },
  {
   "cell_type": "code",
   "execution_count": null,
   "metadata": {
    "id": "7m-tcSCeoFUO"
   },
   "outputs": [],
   "source": [
    "df['label_name'] = df['label'].apply(lambda x: classes[x])"
   ]
  },
  {
   "cell_type": "code",
   "execution_count": null,
   "metadata": {
    "colab": {
     "base_uri": "https://localhost:8080/",
     "height": 206
    },
    "id": "bPQXaeVWp_C1",
    "outputId": "b7d58a69-d6b2-4aae-cfa8-64e9e2ecb0bd"
   },
   "outputs": [],
   "source": [
    "df.head()"
   ]
  },
  {
   "cell_type": "markdown",
   "metadata": {
    "id": "xZYBP9XbdbLG"
   },
   "source": [
    "## **Validation and Test Data**"
   ]
  },
  {
   "cell_type": "code",
   "execution_count": null,
   "metadata": {
    "colab": {
     "base_uri": "https://localhost:8080/",
     "height": 206
    },
    "id": "ZfEJFgDkdg8t",
    "outputId": "08c13fb9-dc0f-4d4b-fdf4-acb69002e19c"
   },
   "outputs": [],
   "source": [
    "df_valid = ds['validation'][:]\n",
    "df_valid.head()"
   ]
  },
  {
   "cell_type": "code",
   "execution_count": null,
   "metadata": {
    "colab": {
     "base_uri": "https://localhost:8080/"
    },
    "id": "-u8rk4iHhEuF",
    "outputId": "3c014125-7bcd-420a-8199-7bdcb2320bb6"
   },
   "outputs": [],
   "source": [
    "df_valid.shape"
   ]
  },
  {
   "cell_type": "code",
   "execution_count": null,
   "metadata": {
    "colab": {
     "base_uri": "https://localhost:8080/",
     "height": 206
    },
    "id": "TDmJxnIUdnWW",
    "outputId": "32970208-c237-4000-8236-69a5bacbf251"
   },
   "outputs": [],
   "source": [
    "df_test = ds['test'][:]\n",
    "df_test.head()"
   ]
  },
  {
   "cell_type": "code",
   "execution_count": null,
   "metadata": {
    "colab": {
     "base_uri": "https://localhost:8080/"
    },
    "id": "0th3KxDmhJ1N",
    "outputId": "1a993762-85e7-4426-b9a8-4d51de79056c"
   },
   "outputs": [],
   "source": [
    "df_test.shape"
   ]
  },
  {
   "cell_type": "markdown",
   "metadata": {
    "id": "onI72caNqLNK"
   },
   "source": [
    "## **Dataset Analysis**"
   ]
  },
  {
   "cell_type": "code",
   "execution_count": null,
   "metadata": {
    "colab": {
     "base_uri": "https://localhost:8080/"
    },
    "id": "Df7UJq8RsIYS",
    "outputId": "6f439a38-5203-4c48-cfa0-70991783ea32"
   },
   "outputs": [],
   "source": [
    "df.info()"
   ]
  },
  {
   "cell_type": "code",
   "execution_count": null,
   "metadata": {
    "colab": {
     "base_uri": "https://localhost:8080/",
     "height": 303
    },
    "id": "J6rYqPmNqaXh",
    "outputId": "ad18cb15-d06f-4333-f6a2-08e8a9ff7783"
   },
   "outputs": [],
   "source": [
    "df['label_name'].value_counts(ascending = True)"
   ]
  },
  {
   "cell_type": "code",
   "execution_count": null,
   "metadata": {
    "colab": {
     "base_uri": "https://localhost:8080/",
     "height": 303
    },
    "id": "H766acNJrjHk",
    "outputId": "72f3038d-2ae8-423e-e68a-3195c99d30e9"
   },
   "outputs": [],
   "source": [
    "df['label_name'].value_counts(ascending = True)/len(df)*100"
   ]
  },
  {
   "cell_type": "code",
   "execution_count": null,
   "metadata": {
    "colab": {
     "base_uri": "https://localhost:8080/",
     "height": 452
    },
    "id": "mzWWaJ-Yp_9S",
    "outputId": "704dfa8c-ea81-461e-b9fd-182269084e58"
   },
   "outputs": [],
   "source": [
    "import matplotlib.pyplot as plt\n",
    "\n",
    "label_counts = df['label_name'].value_counts(ascending=True)\n",
    "label_counts.plot.barh()\n",
    "plt.title('Frequency of Classes')\n",
    "plt.show()"
   ]
  },
  {
   "cell_type": "code",
   "execution_count": null,
   "metadata": {
    "id": "ifT_x2hgqXkv"
   },
   "outputs": [],
   "source": [
    "df['Words Per Tweet'] = df['text'].str.split().apply(len)"
   ]
  },
  {
   "cell_type": "code",
   "execution_count": null,
   "metadata": {
    "colab": {
     "base_uri": "https://localhost:8080/",
     "height": 206
    },
    "id": "N4VKGcr6sN5J",
    "outputId": "c3c0ae02-893b-4cc0-d282-c7e4d146226c"
   },
   "outputs": [],
   "source": [
    "df.head()"
   ]
  },
  {
   "cell_type": "code",
   "execution_count": null,
   "metadata": {
    "colab": {
     "base_uri": "https://localhost:8080/"
    },
    "id": "fi_XOtnJFXCF",
    "outputId": "a3e9e288-20a1-414f-c2ba-a829cd7b6a07"
   },
   "outputs": [],
   "source": [
    "df['Words Per Tweet'].max()"
   ]
  },
  {
   "cell_type": "code",
   "execution_count": null,
   "metadata": {
    "colab": {
     "base_uri": "https://localhost:8080/",
     "height": 495
    },
    "id": "EnCFXbKAsPgi",
    "outputId": "5b5e4dea-9c20-425b-83d4-b9074cb93805"
   },
   "outputs": [],
   "source": [
    "df.boxplot(\"Words Per Tweet\", by='label_name')"
   ]
  },
  {
   "cell_type": "markdown",
   "metadata": {
    "id": "69tXBx_wuXoz"
   },
   "source": [
    "## **Text to Tokens Conversion**"
   ]
  },
  {
   "cell_type": "code",
   "execution_count": null,
   "metadata": {
    "colab": {
     "base_uri": "https://localhost:8080/",
     "height": 145,
     "referenced_widgets": [
      "388173186abf4fcfa82c0ba4942e5743",
      "bc27415443ee4dc4b088257ff7069208",
      "ac062a0d85844316a83966d96d1dd7f7",
      "756f18f28bfa4c9caee23bcc59325ca4",
      "c2255a90b49b4c21854171b09cdc5893",
      "4636f8d0a1fb47769e4af9e419922f45",
      "7e414853a476457d8618be7165d3851e",
      "f94aebf44dd044368b837f635c672052",
      "1fe8a37b575e4b8aad50f87b212629f4",
      "5a8c5a8b8cd54bd7a5f73311866cd375",
      "587310ab8dfc46e99923748e1c567146",
      "f67313e0f7a84e44a2b2ac3bd6c2c641",
      "1b63d5b7e005403bb85aeb58043eb839",
      "13be1ab089704dffbae7aff86d9fc594",
      "88d25319a86044f39d9701087490aa4a",
      "e81d7b81183a4fb4b0f5932e910b2246",
      "83e56af4bab1452f9d7c256a607b71e9",
      "3671b43dc4284a2295d5928cbcc82160",
      "2d732185508147e68386183a88043bac",
      "e7c462d2772b480c8d6da4437bb13d25",
      "026c0a9112df4c0a9fba139b262b4c2b",
      "9978fb81206d425eac0ee8cccf04cfa4",
      "333c9d6395c64e24bb5d2be9d106984a",
      "20ac1028396940b8bdeff906e7207208",
      "11f848a3eeaf46ee9682cc93eec8d758",
      "cb487971e15142e789bc559829384174",
      "4422a46d05684937bf638c7fae073cd9",
      "455acbacf92a42758b64d302a9f66e5c",
      "1a5b84c1b6c045e9a3459890068def9c",
      "5054fd9054ee4d80abd1414d6521fd83",
      "d4ee57e051bb4a7189b8c020acbca20b",
      "459a5dfd85a841b8831bd222be2f9305",
      "c7d8f8a012fb4590b1166456348f02cb",
      "1a6927e2152b47f3b9466b1ef179820c",
      "04357d09a9d54c1d87716a52e47610ce",
      "4d5d61d3fd9d476baf2fad240badbcd3",
      "e32015aa82dd44ac9cd1998eea3dfd27",
      "18a1435d4cc646d69ab4bc13a7f89cdf",
      "69637deb65294d0a847ed97336cb93a6",
      "1cff4cc28b344e93b00fa2971c96544f",
      "8f0669ba3ae04794953ab089d06ae72f",
      "f91a325c395b41a1b4c81b712a7defa4",
      "5486fb969baa45999718158d53ff3299",
      "f37e9f149cc34c77ac7b6e6f37a8dcdc"
     ]
    },
    "id": "WudqkA_Mtkpd",
    "outputId": "bfd55eb1-f765-4b69-d695-a0ed30d9c61d"
   },
   "outputs": [],
   "source": [
    "from transformers import AutoTokenizer\n",
    "model_ckpt = \"distilbert-base-uncased\"\n",
    "tokenizer = AutoTokenizer.from_pretrained(model_ckpt)"
   ]
  },
  {
   "cell_type": "code",
   "execution_count": null,
   "metadata": {
    "colab": {
     "base_uri": "https://localhost:8080/"
    },
    "id": "rVy0-t1X0XAr",
    "outputId": "8987131f-556e-4b5b-93f3-ae02a4daf087"
   },
   "outputs": [],
   "source": [
    "tokenizer.vocab_size, tokenizer.model_max_length"
   ]
  },
  {
   "cell_type": "markdown",
   "metadata": {
    "id": "ZgoZbDtq4ZhV"
   },
   "source": [
    "## **Tokenization of the Emotion Data**"
   ]
  },
  {
   "cell_type": "code",
   "execution_count": null,
   "metadata": {
    "id": "G3PSyRmi3bnp"
   },
   "outputs": [],
   "source": [
    "ds.reset_format()"
   ]
  },
  {
   "cell_type": "code",
   "execution_count": null,
   "metadata": {
    "colab": {
     "base_uri": "https://localhost:8080/"
    },
    "id": "aHWGsutw9BC9",
    "outputId": "d90444d1-debb-40af-fe5f-005c19eb5682"
   },
   "outputs": [],
   "source": [
    "ds"
   ]
  },
  {
   "cell_type": "code",
   "execution_count": null,
   "metadata": {
    "colab": {
     "base_uri": "https://localhost:8080/"
    },
    "id": "ywyWerbM6VsS",
    "outputId": "83813838-fdbd-4a7c-fb1f-f47329d81582"
   },
   "outputs": [],
   "source": [
    "def tokenize(batch):\n",
    "  temp =tokenizer(batch['text'], padding=True, truncation=True)\n",
    "  return temp\n",
    "\n",
    "print(tokenize(ds[\"train\"][:5]))"
   ]
  },
  {
   "cell_type": "code",
   "execution_count": null,
   "metadata": {
    "colab": {
     "base_uri": "https://localhost:8080/",
     "height": 113,
     "referenced_widgets": [
      "d0d111ba3db24288ae4989a94f1174bd",
      "b9a689a6ec8a4af2ada7064049ae1926",
      "9684c71c549e4fb5b0c18bdac770be24",
      "3b20bb886d5a46a5ac6abe6a28577010",
      "a3c7b38c72384019ad188463c4e91f74",
      "b45e9f5a15d04b2d9a36c93764b89586",
      "0fb3d165c1764ea9bb0de4f0031d5fcb",
      "f2cac302a1184d8b9826d89234ac38ad",
      "7e7c2aed141248d2a1d23565145ef77a",
      "c97e4099e54b4ee1b0754f5a402829a8",
      "bc31f3fb4866422ea4aa73e9df3d3413",
      "6b249465621b4daeba456a3ecacb82ee",
      "598300288610412784f6752680ec83f7",
      "ad322d4ede504cc29f257a4c3db7b52b",
      "a877d25502be4799b31f1c2c2696b9b5",
      "1c0e1a6fbd874cc39a33f77717865e4c",
      "ef0be8fc39ed4de0833794270411f9de",
      "3eb38982cc3a437da5be54de3d24c02b",
      "c6069554f6ac4dab8b67cfd44d401a47",
      "c40f00f09f964422b078f9ea4360f510",
      "de5eb47644fa405ca3ca6815b65b509d",
      "c0c185fe6d2d4052a99fb5e41cf392b5",
      "a1135c7e01664c738e7f09f507eeb13d",
      "a18a1926a7ab4f1288fc3c0de883fef7",
      "4e09c899666449178e27790381581302",
      "af06cde31092480ebc42d20f07a6dc3e",
      "d691904b7e324c9e917ed093bc801070",
      "1ee0106093dd48c19aa5f43dddd64db0",
      "b7823d954f37469489690cfcbf195e5b",
      "cba8222fe52c47a191ed8c8c5dc56d04",
      "6373a2945b3f442ca87eb1c9aed674d1",
      "74cbfaa331454a258b1e1f175bbebbd0",
      "5e41bb08c2d54ade89f6b86db452beec"
     ]
    },
    "id": "VNa1TDm58ZSv",
    "outputId": "5fbe62c1-ecf5-4c30-9a72-34a85a35f6c2"
   },
   "outputs": [],
   "source": [
    "emotions_encoded = ds.map(tokenize, batched=True, batch_size=None)"
   ]
  },
  {
   "cell_type": "code",
   "execution_count": null,
   "metadata": {
    "colab": {
     "base_uri": "https://localhost:8080/"
    },
    "id": "zMgiRszJ86cq",
    "outputId": "4e5f2dde-c626-4322-809c-11b1b7ef8056"
   },
   "outputs": [],
   "source": [
    "emotions_encoded"
   ]
  },
  {
   "cell_type": "code",
   "execution_count": null,
   "metadata": {
    "id": "vWDOq_wdFEeu"
   },
   "outputs": [],
   "source": [
    "# Get the max length of tokenized inputs from the emotions_encoded dataset\n",
    "max_length_train = max([len(item['input_ids']) for item in emotions_encoded['train']])\n",
    "max_length_validation = max([len(item['input_ids']) for item in emotions_encoded['validation']])\n",
    "max_length_test = max([len(item['input_ids']) for item in emotions_encoded['test']])"
   ]
  },
  {
   "cell_type": "code",
   "execution_count": null,
   "metadata": {
    "colab": {
     "base_uri": "https://localhost:8080/"
    },
    "id": "Epj2yl4xFNQM",
    "outputId": "fa797e14-ed10-44e3-e654-8e7e1e5c1e78"
   },
   "outputs": [],
   "source": [
    "max_length_train , max_length_validation , max_length_test"
   ]
  },
  {
   "cell_type": "markdown",
   "metadata": {
    "id": "Yh58dDkf9cdk"
   },
   "source": [
    "## **Model Building**"
   ]
  },
  {
   "cell_type": "code",
   "execution_count": null,
   "metadata": {
    "colab": {
     "base_uri": "https://localhost:8080/",
     "height": 35
    },
    "id": "gAh5QFCLBYtl",
    "outputId": "80df9bce-83a2-4747-b8ab-5ab9642e24f6"
   },
   "outputs": [],
   "source": [
    "model_ckpt"
   ]
  },
  {
   "cell_type": "code",
   "execution_count": null,
   "metadata": {
    "colab": {
     "base_uri": "https://localhost:8080/",
     "height": 104,
     "referenced_widgets": [
      "ebe1ccb4a9514230b0800da239966b44",
      "19b20cc1546d47ca81c5072f80944fe0",
      "224269879a974b278470d09516283848",
      "89c734239b424b1cb0a060a18754e1c0",
      "e788638592064fbf97a3273349d4acf9",
      "905a1b339eaa4fa5a5e219dbfd095c81",
      "b3fd3fd252b445d0bae0bc69b8be5022",
      "afbfba5f4fbb447eb6c7f2c4df6e3cbe",
      "6cd9ff2be97841e8b8a07c8947fc09a8",
      "96f6d7ea86fc4bd5826012f984565809",
      "a6c788dfd80a4962a04f8737bb5d8955"
     ]
    },
    "id": "KQO-n2-DA5PA",
    "outputId": "defd0d41-9e55-4cc4-f350-0c5d3a5608b2"
   },
   "outputs": [],
   "source": [
    "from transformers import AutoModel\n",
    "import torch\n",
    "\n",
    "model = AutoModel.from_pretrained(model_ckpt)"
   ]
  },
  {
   "cell_type": "code",
   "execution_count": null,
   "metadata": {
    "colab": {
     "base_uri": "https://localhost:8080/"
    },
    "id": "Vbmr4DroBR1B",
    "outputId": "cb030272-a4f2-4d9f-9325-52df0766ac23"
   },
   "outputs": [],
   "source": [
    "model"
   ]
  },
  {
   "cell_type": "markdown",
   "metadata": {
    "id": "Tq2KwFmWDjJm"
   },
   "source": [
    "## **Fine-Tuning DistilBERT**"
   ]
  },
  {
   "cell_type": "code",
   "execution_count": null,
   "metadata": {
    "colab": {
     "base_uri": "https://localhost:8080/"
    },
    "id": "QWrBvBgIC0yN",
    "outputId": "05506885-e577-44b4-9e12-ba441dad4879"
   },
   "outputs": [],
   "source": [
    "from transformers import AutoModelForSequenceClassification\n",
    "\n",
    "num_labels = len(classes)\n",
    "device = torch.device(\"cuda\" if torch.cuda.is_available() else \"cpu\")\n",
    "model = AutoModelForSequenceClassification.from_pretrained(model_ckpt, num_labels = num_labels).to(device)"
   ]
  },
  {
   "cell_type": "code",
   "execution_count": null,
   "metadata": {
    "colab": {
     "base_uri": "https://localhost:8080/"
    },
    "id": "JvFE0j-YLksY",
    "outputId": "88d935df-6066-483e-ad8c-22dba0f40617"
   },
   "outputs": [],
   "source": [
    "device"
   ]
  },
  {
   "cell_type": "code",
   "execution_count": null,
   "metadata": {
    "id": "KkJytd7ULv8a"
   },
   "outputs": [],
   "source": [
    "from transformers import TrainingArguments"
   ]
  },
  {
   "cell_type": "code",
   "execution_count": null,
   "metadata": {
    "id": "QzTz0jK7NGez"
   },
   "outputs": [],
   "source": [
    "batch_size = 64\n",
    "model_name = \"distilbert-finetuned-emotion\"\n",
    "\n",
    "training_args = TrainingArguments(output_dir = model_name,\n",
    "                                 #run_name=\"my-emotion-finetuning-run\", # Add this line\n",
    "                                 num_train_epochs=2,\n",
    "                                 learning_rate = 2e-5,\n",
    "                                 per_device_train_batch_size= batch_size,\n",
    "                                 per_device_eval_batch_size = batch_size,\n",
    "                                 weight_decay=0.01,\n",
    "                                 #evaluation_strategy = \"epoch\",\n",
    "                                 disable_tqdm=False)"
   ]
  },
  {
   "cell_type": "code",
   "execution_count": null,
   "metadata": {
    "id": "CmDViV14PPsI"
   },
   "outputs": [],
   "source": [
    "from sklearn.metrics import accuracy_score, f1_score\n",
    "\n",
    "def compute_metrics(pred):\n",
    "  labels = pred.label_ids\n",
    "  preds = pred.predictions.argmax(-1)\n",
    "  f1 = f1_score(labels, preds, average='weighted')\n",
    "  acc = accuracy_score(labels, preds)\n",
    "  return {\"accuracy\": acc, \"f1\": f1}"
   ]
  },
  {
   "cell_type": "code",
   "execution_count": null,
   "metadata": {
    "colab": {
     "base_uri": "https://localhost:8080/"
    },
    "id": "PRr9LRi-QDtd",
    "outputId": "d5205c5b-7674-4977-a658-8ddcb9cc01f3"
   },
   "outputs": [],
   "source": [
    "from transformers import Trainer\n",
    "\n",
    "trainer = Trainer(model=model, args=training_args,\n",
    "                  compute_metrics=compute_metrics,\n",
    "                  train_dataset=emotions_encoded['train'],\n",
    "                  eval_dataset=emotions_encoded['validation'],\n",
    "                  tokenizer=tokenizer)"
   ]
  },
  {
   "cell_type": "code",
   "execution_count": null,
   "metadata": {
    "id": "Dh7CiR2LshvF"
   },
   "outputs": [],
   "source": [
    "!pip install wandb -qU\n",
    "import wandb\n",
    "wandb.login()\n",
    "# Before calling trainer.train()\n",
    "wandb.init(project=\"my-emotion-finetuning-run\", name=\"distilbert-finetuned-emotion\")\n",
    "\n",
    "# Now call the train method\n",
    "trainer.train()"
   ]
  },
  {
   "cell_type": "code",
   "execution_count": null,
   "metadata": {
    "colab": {
     "base_uri": "https://localhost:8080/",
     "height": 121
    },
    "id": "XZK-mVx5ZTgf",
    "outputId": "72133cb7-bd03-4918-eb8c-b903b8607a4a"
   },
   "outputs": [],
   "source": [
    "preds_outputs = trainer.predict(emotions_encoded['test'])\n",
    "preds_outputs.metrics"
   ]
  },
  {
   "cell_type": "markdown",
   "metadata": {
    "id": "vOCXydEr2Ofx"
   },
   "source": [
    "## **Saving the Model**"
   ]
  },
  {
   "cell_type": "code",
   "execution_count": null,
   "metadata": {
    "id": "eBuhE4bHwyz-"
   },
   "outputs": [],
   "source": [
    "trainer.save_model(\"./distilbert-finetuned-emotion-saved\")"
   ]
  },
  {
   "cell_type": "code",
   "execution_count": null,
   "metadata": {
    "colab": {
     "base_uri": "https://localhost:8080/"
    },
    "id": "fLv3KITHxdqZ",
    "outputId": "a95d6b7d-f6e0-43a6-e214-435481509d22"
   },
   "outputs": [],
   "source": [
    "import torch\n",
    "from transformers import AutoModelForSequenceClassification, AutoTokenizer\n",
    "\n",
    "# Load the fine-tuned model and tokenizer\n",
    "model_path = \"./distilbert-finetuned-emotion-saved\"\n",
    "model = AutoModelForSequenceClassification.from_pretrained(model_path)\n",
    "tokenizer = AutoTokenizer.from_pretrained(model_path)\n",
    "\n",
    "# Save the model and tokenizer with reduced precision (e.g., fp16)\n",
    "# This significantly reduces the model size.\n",
    "model.save_pretrained(model_path, max_shard_size=\"100MB\", safe_serialization=True)\n",
    "tokenizer.save_pretrained(model_path)"
   ]
  },
  {
   "cell_type": "markdown",
   "metadata": {
    "id": "yx10R0o46gdj"
   },
   "source": [
    "## **Loading the Model**"
   ]
  },
  {
   "cell_type": "code",
   "execution_count": null,
   "metadata": {
    "id": "6FvKL-0Zzm2o"
   },
   "outputs": [],
   "source": [
    "loaded_model = AutoModelForSequenceClassification.from_pretrained(model_path)\n",
    "loaded_tokenizer = AutoTokenizer.from_pretrained(model_path)\n",
    "\n",
    "print(loaded_model)"
   ]
  },
  {
   "cell_type": "markdown",
   "metadata": {
    "id": "fwBQp1pRu9uB"
   },
   "source": [
    "## **Classification Report**"
   ]
  },
  {
   "cell_type": "code",
   "execution_count": null,
   "metadata": {
    "id": "kSEQZGgDux6C"
   },
   "outputs": [],
   "source": [
    "import numpy as np\n",
    "y_preds = np.argmax(preds_outputs.predictions, axis=1)\n",
    "y_true = emotions_encoded['test'][:]['label']"
   ]
  },
  {
   "cell_type": "code",
   "execution_count": null,
   "metadata": {
    "colab": {
     "base_uri": "https://localhost:8080/"
    },
    "id": "uZ4rhCpzvBlV",
    "outputId": "856c7b46-b756-4512-80c2-a8d65e023152"
   },
   "outputs": [],
   "source": [
    "from sklearn.metrics import classification_report\n",
    "print(classes)\n",
    "print(classification_report(y_true, y_preds))"
   ]
  },
  {
   "cell_type": "code",
   "execution_count": null,
   "metadata": {
    "colab": {
     "base_uri": "https://localhost:8080/",
     "height": 303
    },
    "id": "uslTLjkqvmGo",
    "outputId": "acbcfde6-c086-4649-e58d-d83442569a52"
   },
   "outputs": [],
   "source": [
    "label_counts"
   ]
  },
  {
   "cell_type": "markdown",
   "metadata": {
    "id": "UZopOJs-1AP4"
   },
   "source": [
    "## **Prediction on Single Text**"
   ]
  },
  {
   "cell_type": "code",
   "execution_count": null,
   "metadata": {
    "colab": {
     "base_uri": "https://localhost:8080/"
    },
    "id": "k9Qg_ZSD1oYL",
    "outputId": "1d7a1e1e-7f14-4f20-c90d-af698e6da53c"
   },
   "outputs": [],
   "source": [
    "device"
   ]
  },
  {
   "cell_type": "code",
   "execution_count": null,
   "metadata": {
    "colab": {
     "base_uri": "https://localhost:8080/"
    },
    "id": "HkD9EH-ywgTJ",
    "outputId": "0b371a55-2fe0-4e34-e872-f852a13f2151"
   },
   "outputs": [],
   "source": [
    "text = 'i want to kill you'\n",
    "input_encoded = tokenizer(text, return_tensors='pt')\n",
    "# Move the input tensor to the same device as the model\n",
    "input_encoded = input_encoded.to('cpu')\n",
    "with torch.no_grad():\n",
    "  outputs = model(**input_encoded)\n",
    "\n",
    "logits = outputs.logits\n",
    "pred = torch.argmax(logits, dim=1).item()\n",
    "pred, classes[pred]"
   ]
  },
  {
   "cell_type": "code",
   "execution_count": null,
   "metadata": {
    "colab": {
     "base_uri": "https://localhost:8080/"
    },
    "id": "E0qtMIlI1IJh",
    "outputId": "e068a24c-6d1b-417a-8b43-6374fbcb1308"
   },
   "outputs": [],
   "source": [
    "outputs"
   ]
  },
  {
   "cell_type": "code",
   "execution_count": null,
   "metadata": {
    "id": "TcOw5Can1yrf"
   },
   "outputs": [],
   "source": []
  }
 ],
 "metadata": {
  "colab": {
   "provenance": []
  },
  "kernelspec": {
   "display_name": "Python 3",
   "name": "python3"
  },
  "language_info": {
   "name": "python"
  },
  "state": {}
 },
 "nbformat": 4,
 "nbformat_minor": 0
}
